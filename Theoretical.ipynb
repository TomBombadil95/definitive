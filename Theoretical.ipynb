{
 "cells": [
  {
   "cell_type": "markdown",
   "metadata": {},
   "source": [
    "## 1. Running Time"
   ]
  },
  {
   "cell_type": "markdown",
   "metadata": {},
   "source": [
    "When we execute the function splitSwap(a, 0, n) if takes the amount $c$ to execute the if condition and then the function call itself twice and works on the length $\\frac{n}{2}$. Finally, the function call another function name swapList, that takes $O(n)$ to execute the program. We call the function $T(n)$ times.\\\n",
    "  \\\n",
    "  \\\n",
    "                                       $T(n)$ = c+$T\\frac{n}{2}$+$b\\frac{n}{2}$\\\n",
    "                                              = 3c+$4T\\frac{n}{4}$+bn\\\n",
    "                                              = 7c+$8T\\frac{n}{8}$+$\\frac{3}{2}$bn\\\n",
    "                                              = $(2^i-1)c$+$(2^i)T\\frac{n}{2^i}$+$\\frac{i}{2}bn$\\\n",
    "                                              \\\n",
    "                                              \\\n",
    "The function stops to call itself when $\\frac{n}{2^i}$=1 tends to $i$=$\\log{2}{n}$. Replacing it into time equation, we get an running time $O(n\\log(n))$"
   ]
  },
  {
   "cell_type": "markdown",
   "metadata": {},
   "source": [
    "## 2. Mechanism of the Algorithm"
   ]
  },
  {
   "cell_type": "markdown",
   "metadata": {},
   "source": [
    "The first time we call the function splitSwap(a, 0, n) the given matrix is cut in halves and the position of the two halves is exchanged. Then the function recall itself two time and repeat the described process to heach halves. At the end the array is inverted. We can perform a faster algorithm using a for-loop.\n",
    "if $A[ ]$ is an array of lenght n.\\\n",
    "\\\n",
    "\\\n",
    "\n",
    " for i in range $\\frac{n}{2}$:\\\n",
    " final= $A[i]$\\\n",
    " $A[i]$=$A[n-1]$\\\n",
    " $A[n-i]$=final\n",
    "\n"
   ]
  },
  {
   "cell_type": "code",
   "execution_count": null,
   "metadata": {},
   "outputs": [],
   "source": []
  }
 ],
 "metadata": {
  "kernelspec": {
   "display_name": "Python 3",
   "language": "python",
   "name": "python3"
  },
  "language_info": {
   "codemirror_mode": {
    "name": "ipython",
    "version": 3
   },
   "file_extension": ".py",
   "mimetype": "text/x-python",
   "name": "python",
   "nbconvert_exporter": "python",
   "pygments_lexer": "ipython3",
   "version": "3.7.3"
  }
 },
 "nbformat": 4,
 "nbformat_minor": 2
}
